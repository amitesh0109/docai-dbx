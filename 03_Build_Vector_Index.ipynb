{
 "cells": [
  {
   "cell_type": "code",
   "execution_count": 0,
   "metadata": {
    "application/vnd.databricks.v1+cell": {
     "cellMetadata": {
      "byteLimit": 2048000,
      "rowLimit": 10000
     },
     "inputWidgets": {},
     "nuid": "5ad0f11f-56df-4659-a197-59791f322d92",
     "showTitle": false,
     "tableResultSettingsMap": {},
     "title": ""
    }
   },
   "outputs": [],
   "source": [
    "%pip install sentence-transformers"
   ]
  },
  {
   "cell_type": "code",
   "execution_count": 0,
   "metadata": {
    "application/vnd.databricks.v1+cell": {
     "cellMetadata": {
      "byteLimit": 2048000,
      "rowLimit": 10000
     },
     "inputWidgets": {},
     "nuid": "e2920f56-4f62-48b6-9248-de1fa0a93e03",
     "showTitle": false,
     "tableResultSettingsMap": {},
     "title": ""
    }
   },
   "outputs": [],
   "source": [
    "%restart_python"
   ]
  },
  {
   "cell_type": "code",
   "execution_count": 0,
   "metadata": {
    "application/vnd.databricks.v1+cell": {
     "cellMetadata": {
      "byteLimit": 2048000,
      "rowLimit": 10000
     },
     "inputWidgets": {},
     "nuid": "c52eba1f-710c-4816-aa87-92755c8d4330",
     "showTitle": false,
     "tableResultSettingsMap": {},
     "title": ""
    }
   },
   "outputs": [],
   "source": [
    "# Databricks Notebook: 03_build_vector_index.py\n",
    "\n",
    "# COMMAND ----------\n",
    "from sentence_transformers import SentenceTransformer\n",
    "import pandas as pd\n",
    "import numpy as np\n",
    "import mlflow\n",
    "import os\n",
    "from pyspark.sql.functions import pandas_udf, col\n",
    "from pyspark.sql.types import ArrayType, FloatType\n",
    "\n",
    "# COMMAND ----------\n",
    "# Load chunked text from Gold layer\n",
    "df_chunks = spark.read.table(\"`docai-dbx`.gold.doc_chunks\")\n",
    "\n",
    "# COMMAND ----------\n",
    "# Load embedding model\n",
    "model = SentenceTransformer(\"all-MiniLM-L6-v2\")\n",
    "\n",
    "# COMMAND ----------\n",
    "# Define UDF to generate embeddings\n",
    "@pandas_udf(ArrayType(FloatType()))\n",
    "def generate_embeddings_udf(text_series: pd.Series) -> pd.Series:\n",
    "    embeddings = model.encode(text_series.tolist(), convert_to_numpy=True)\n",
    "    return pd.Series([embedding.tolist() for embedding in embeddings])\n",
    "\n",
    "# COMMAND ----------\n",
    "# Generate embeddings\n",
    "df_embed = df_chunks.withColumn(\"embedding\", generate_embeddings_udf(col(\"text_chunk\")))\n",
    "\n",
    "# COMMAND ----------\n",
    "# Save to Delta table\n",
    "df_embed.write.format(\"delta\").option(\"mergeSchema\", \"true\").mode(\"overwrite\").saveAsTable(f\"`docai-dbx`.gold.doc_embeddings\")\n",
    "\n",
    "# COMMAND ----------\n",
    "print(\"✅ Embedding generation completed. Ready for vector search or LLM Q&A.\")\n"
   ]
  },
  {
   "cell_type": "code",
   "execution_count": 0,
   "metadata": {
    "application/vnd.databricks.v1+cell": {
     "cellMetadata": {},
     "inputWidgets": {},
     "nuid": "7061ec5d-8b95-458e-bcac-86cc61061765",
     "showTitle": false,
     "tableResultSettingsMap": {},
     "title": ""
    }
   },
   "outputs": [],
   "source": []
  }
 ],
 "metadata": {
  "application/vnd.databricks.v1+notebook": {
   "computePreferences": null,
   "dashboards": [],
   "environmentMetadata": {
    "base_environment": "",
    "environment_version": "2"
   },
   "inputWidgetPreferences": null,
   "language": "python",
   "notebookMetadata": {
    "pythonIndentUnit": 4
   },
   "notebookName": "03_Build_Vector_Index",
   "widgets": {}
  },
  "language_info": {
   "name": "python"
  }
 },
 "nbformat": 4,
 "nbformat_minor": 0
}
