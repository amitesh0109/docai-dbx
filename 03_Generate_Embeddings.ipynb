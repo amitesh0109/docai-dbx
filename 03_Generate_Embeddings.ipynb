{
 "cells": [
  {
   "cell_type": "code",
   "execution_count": 0,
   "metadata": {
    "application/vnd.databricks.v1+cell": {
     "cellMetadata": {
      "byteLimit": 2048000,
      "rowLimit": 10000
     },
     "inputWidgets": {},
     "nuid": "5ad0f11f-56df-4659-a197-59791f322d92",
     "showTitle": false,
     "tableResultSettingsMap": {},
     "title": ""
    }
   },
   "outputs": [],
   "source": [
    "%pip install sentence-transformers\n",
    "%pip install databricks-vectorsearch"
   ]
  },
  {
   "cell_type": "code",
   "execution_count": 0,
   "metadata": {
    "application/vnd.databricks.v1+cell": {
     "cellMetadata": {
      "byteLimit": 2048000,
      "rowLimit": 10000
     },
     "inputWidgets": {},
     "nuid": "e2920f56-4f62-48b6-9248-de1fa0a93e03",
     "showTitle": false,
     "tableResultSettingsMap": {},
     "title": ""
    }
   },
   "outputs": [],
   "source": [
    "%restart_python"
   ]
  },
  {
   "cell_type": "code",
   "execution_count": 0,
   "metadata": {
    "application/vnd.databricks.v1+cell": {
     "cellMetadata": {
      "byteLimit": 2048000,
      "rowLimit": 10000
     },
     "inputWidgets": {},
     "nuid": "20551e11-613a-477d-ac4a-c2c7acdce485",
     "showTitle": false,
     "tableResultSettingsMap": {},
     "title": ""
    }
   },
   "outputs": [],
   "source": [
    "# Databricks Notebook: 03_build_vector_index.py\n",
    "\n",
    "from sentence_transformers import SentenceTransformer\n",
    "import pandas as pd\n",
    "import numpy as np\n",
    "import mlflow\n",
    "import os\n",
    "from pyspark.sql.functions import pandas_udf, col,StringType\n",
    "from pyspark.sql.types import ArrayType, FloatType\n",
    "import json"
   ]
  },
  {
   "cell_type": "markdown",
   "metadata": {
    "application/vnd.databricks.v1+cell": {
     "cellMetadata": {},
     "inputWidgets": {},
     "nuid": "f07685f6-c41d-4184-b839-8d583e5dda2e",
     "showTitle": false,
     "tableResultSettingsMap": {},
     "title": ""
    }
   },
   "source": [
    "### Generate Embeddings Table"
   ]
  },
  {
   "cell_type": "code",
   "execution_count": 0,
   "metadata": {
    "application/vnd.databricks.v1+cell": {
     "cellMetadata": {
      "byteLimit": 2048000,
      "rowLimit": 10000
     },
     "inputWidgets": {},
     "nuid": "c52eba1f-710c-4816-aa87-92755c8d4330",
     "showTitle": false,
     "tableResultSettingsMap": {},
     "title": ""
    }
   },
   "outputs": [],
   "source": [
    "# Load chunked text from Gold layer\n",
    "df_chunks = spark.read.table(\"`docai-dbx`.gold.doc_chunks\")\n",
    "\n",
    "# Load embedding model\n",
    "model = SentenceTransformer(\"all-MiniLM-L6-v2\")\n",
    "\n",
    "# Define UDF to generate embeddings\n",
    "@pandas_udf(ArrayType(FloatType()))\n",
    "def generate_embeddings_udf(text_series: pd.Series) -> pd.Series:\n",
    "    embeddings = model.encode(text_series.tolist(), convert_to_numpy=True)\n",
    "    return pd.Series([embedding.tolist() for embedding in embeddings])\n",
    "\n",
    "# UDF to convert embedding array to string\n",
    "def embedding_to_string(embedding):\n",
    "    return json.dumps(embedding)\n",
    "\n",
    "# Generate embeddings\n",
    "df_embed = df_chunks.withColumn(\"embedding\", generate_embeddings_udf(col(\"text_chunk\")))\n",
    "\n",
    "embedding_to_string_udf = udf(embedding_to_string, StringType())\n",
    "\n",
    "# Add stringified embedding column\n",
    "df_embed = df_embed.withColumn(\"embedding_str\", embedding_to_string_udf(col(\"embedding\")))\n",
    "\n",
    "# Save to Delta table\n",
    "df_embed.write.format(\"delta\").option(\"mergeSchema\", \"true\").mode(\"overwrite\").saveAsTable(f\"`docai-dbx`.gold.doc_embeddings\")\n",
    "\n",
    "#print(\" Embedding generation completed. Ready for vector search or LLM Q&A.\")\n"
   ]
  },
  {
   "cell_type": "markdown",
   "metadata": {
    "application/vnd.databricks.v1+cell": {
     "cellMetadata": {},
     "inputWidgets": {},
     "nuid": "a920d202-3938-4599-a1f7-4a9864f454d5",
     "showTitle": false,
     "tableResultSettingsMap": {},
     "title": ""
    }
   },
   "source": [
    "### Sync Vector Index"
   ]
  },
  {
   "cell_type": "code",
   "execution_count": 0,
   "metadata": {
    "application/vnd.databricks.v1+cell": {
     "cellMetadata": {
      "byteLimit": 2048000,
      "implicitDf": true,
      "rowLimit": 10000
     },
     "inputWidgets": {},
     "nuid": "d3d7039f-fc78-459a-bfa5-8ca511cf225b",
     "showTitle": false,
     "tableResultSettingsMap": {},
     "title": ""
    }
   },
   "outputs": [],
   "source": [
    "from databricks.vector_search.client import VectorSearchClient\n",
    "\n",
    "# Initialize client\n",
    "vsc = VectorSearchClient()\n",
    "#sync vectore index\n",
    "index = vsc.get_index(index_name=\"docai-dbx.gold.doc_embeddings_index\")\n",
    "index.sync()"
   ]
  }
 ],
 "metadata": {
  "application/vnd.databricks.v1+notebook": {
   "computePreferences": null,
   "dashboards": [],
   "environmentMetadata": {
    "base_environment": "",
    "environment_version": "2"
   },
   "inputWidgetPreferences": null,
   "language": "python",
   "notebookMetadata": {
    "mostRecentlyExecutedCommandWithImplicitDF": {
     "commandId": -1,
     "dataframes": [
      "_sqldf"
     ]
    },
    "pythonIndentUnit": 4
   },
   "notebookName": "03_Generate_Embeddings",
   "widgets": {}
  },
  "language_info": {
   "name": "python"
  }
 },
 "nbformat": 4,
 "nbformat_minor": 0
}
