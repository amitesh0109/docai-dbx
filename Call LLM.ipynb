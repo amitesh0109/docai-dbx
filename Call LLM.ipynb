{
 "cells": [
  {
   "cell_type": "code",
   "execution_count": 0,
   "metadata": {
    "application/vnd.databricks.v1+cell": {
     "cellMetadata": {
      "byteLimit": 2048000,
      "rowLimit": 10000
     },
     "inputWidgets": {},
     "nuid": "ad552097-cbba-4928-8f79-79bfac11e4d6",
     "showTitle": false,
     "tableResultSettingsMap": {},
     "title": ""
    }
   },
   "outputs": [],
   "source": [
    "from databricks.vector_search.client import VectorSearchClient\n",
    "\n",
    "# Initialize client\n",
    "vsc = VectorSearchClient()\n",
    "\n",
    "# Get index\n",
    "index = vsc.get_index(index_name=\"docai-dbx.gold.doc_embeddings_index\")\n",
    "\n",
    "# Use the built-in embedding function for querying (same one used for index creation)\n",
    "results = index.similarity_search(\n",
    "    query_text=\"What is the refund policy?\",\n",
    "    columns=[\"chunk_id\", \"file_name\", \"text_chunk\"],\n",
    "    num_results=5\n",
    ")\n",
    "display(results)\n",
    "# Show results\n",
    "# for r in results['result']:\n",
    "#     print(f\"📄 File: {r['file_name']}\")\n",
    "#     print(f\"📝 Chunk: {r['text_chunk'][:300]}...\\n---\\n\")\n"
   ]
  },
  {
   "cell_type": "code",
   "execution_count": 0,
   "metadata": {
    "application/vnd.databricks.v1+cell": {
     "cellMetadata": {
      "byteLimit": 2048000,
      "rowLimit": 10000
     },
     "inputWidgets": {},
     "nuid": "0e6fbb9c-3f67-4bae-9dcb-aca78e21ec73",
     "showTitle": false,
     "tableResultSettingsMap": {},
     "title": ""
    }
   },
   "outputs": [],
   "source": [
    "from transformers import AutoTokenizer, AutoModelForCausalLM, pipeline\n",
    "\n",
    "model_id = \"microsoft/Phi-3-mini-128k-instruct\"\n",
    "\n",
    "tokenizer = AutoTokenizer.from_pretrained(model_id)\n",
    "model = AutoModelForCausalLM.from_pretrained(model_id, device_map=\"auto\")\n",
    "\n",
    "qa_pipeline = pipeline(\"text-generation\", model=model, tokenizer=tokenizer)\n",
    "\n",
    "# Prepare prompt from retrieved chunks\n",
    "context = \"\\n\".join([r[\"text_chunk\"] for r in results[\"result\"]])\n",
    "\n",
    "prompt = f\"\"\"Use the following document excerpts to answer the question.\n",
    "\n",
    "Document:\n",
    "{context}\n",
    "\n",
    "Question: What is the refund policy?\n",
    "Answer:\"\"\"\n",
    "\n",
    "response = qa_pipeline(prompt, max_new_tokens=200, do_sample=True)[0][\"generated_text\"]\n",
    "answer = response.split(\"Answer:\")[-1].strip()\n",
    "\n",
    "print(\"\\n🤖 Final Answer:\\n\")\n",
    "print(answer)\n"
   ]
  },
  {
   "cell_type": "code",
   "execution_count": 0,
   "metadata": {
    "application/vnd.databricks.v1+cell": {
     "cellMetadata": {},
     "inputWidgets": {},
     "nuid": "b6fb7532-93fa-4dfa-a82b-72bf7f3eb484",
     "showTitle": false,
     "tableResultSettingsMap": {},
     "title": ""
    }
   },
   "outputs": [],
   "source": []
  }
 ],
 "metadata": {
  "application/vnd.databricks.v1+notebook": {
   "computePreferences": null,
   "dashboards": [],
   "environmentMetadata": {
    "base_environment": "",
    "environment_version": "2"
   },
   "inputWidgetPreferences": null,
   "language": "python",
   "notebookMetadata": {
    "pythonIndentUnit": 4
   },
   "notebookName": "Call LLM",
   "widgets": {}
  },
  "language_info": {
   "name": "python"
  }
 },
 "nbformat": 4,
 "nbformat_minor": 0
}
