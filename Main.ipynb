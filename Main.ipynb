{
 "cells": [
  {
   "cell_type": "code",
   "execution_count": 0,
   "metadata": {
    "application/vnd.databricks.v1+cell": {
     "cellMetadata": {
      "byteLimit": 2048000,
      "rowLimit": 10000
     },
     "inputWidgets": {},
     "nuid": "ad552097-cbba-4928-8f79-79bfac11e4d6",
     "showTitle": false,
     "tableResultSettingsMap": {},
     "title": ""
    }
   },
   "outputs": [],
   "source": [
    "from databricks.vector_search.client import VectorSearchClient\n",
    "\n",
    "# Initialize client\n",
    "vsc = VectorSearchClient()\n",
    "\n",
    "# Get index\n",
    "index = vsc.get_index(index_name=\"docai-dbx.gold.doc_embeddings_index\")\n",
    "\n",
    "# Use the built-in embedding function for querying (same one used for index creation)\n",
    "results = index.similarity_search(\n",
    "    query_text=\"What is the refund policy?\",\n",
    "    columns=[\"chunk_id\", \"file_name\", \"text_chunk\"],\n",
    "    num_results=5\n",
    ")\n",
    "display(results)\n",
    "# Show results\n",
    "# for r in results['result']:\n",
    "#     print(f\"📄 File: {r['file_name']}\")\n",
    "#     print(f\"📝 Chunk: {r['text_chunk'][:300]}...\\n---\\n\")\n"
   ]
  },
  {
   "cell_type": "code",
   "execution_count": 0,
   "metadata": {
    "application/vnd.databricks.v1+cell": {
     "cellMetadata": {
      "byteLimit": 2048000,
      "rowLimit": 10000
     },
     "inputWidgets": {},
     "nuid": "b6fb7532-93fa-4dfa-a82b-72bf7f3eb484",
     "showTitle": false,
     "tableResultSettingsMap": {},
     "title": ""
    }
   },
   "outputs": [],
   "source": [
    "# if isinstance(results[\"result\"], list):\n",
    "#     context = \"\\n\\n\".join([r[\"text_chunk\"] for r in results[\"result\"]])\n",
    "# else:\n",
    "#     context = results[\"result\"]\n",
    "\n",
    "# query = \"What is the refund policy?\"\n",
    "\n",
    "# prompt = f\"\"\"Use the following document excerpts to answer the question.\n",
    "\n",
    "# Document:\n",
    "# {context}\n",
    "\n",
    "# Question: {query}\n",
    "# Answer:\"\"\"\n",
    "\n",
    "# print(prompt)"
   ]
  },
  {
   "cell_type": "code",
   "execution_count": 0,
   "metadata": {
    "application/vnd.databricks.v1+cell": {
     "cellMetadata": {
      "byteLimit": 2048000,
      "rowLimit": 10000
     },
     "inputWidgets": {},
     "nuid": "c60b20e4-14f3-402b-ac5a-e2a44f5dd612",
     "showTitle": false,
     "tableResultSettingsMap": {},
     "title": ""
    }
   },
   "outputs": [],
   "source": [
    "%pip install openai"
   ]
  },
  {
   "cell_type": "code",
   "execution_count": 0,
   "metadata": {
    "application/vnd.databricks.v1+cell": {
     "cellMetadata": {
      "byteLimit": 2048000,
      "rowLimit": 10000
     },
     "inputWidgets": {},
     "nuid": "b4cda10e-6f53-48e1-80ae-d85b3b19faf2",
     "showTitle": false,
     "tableResultSettingsMap": {},
     "title": ""
    }
   },
   "outputs": [],
   "source": [
    " %restart_python"
   ]
  },
  {
   "cell_type": "code",
   "execution_count": 0,
   "metadata": {
    "application/vnd.databricks.v1+cell": {
     "cellMetadata": {
      "byteLimit": 2048000,
      "rowLimit": 10000
     },
     "inputWidgets": {},
     "nuid": "2268f551-0307-4126-aae6-36a35aa05203",
     "showTitle": false,
     "tableResultSettingsMap": {},
     "title": ""
    }
   },
   "outputs": [],
   "source": [
    "from openai import OpenAI\n",
    "import os\n",
    "\n",
    "# Use token from current notebook session\n",
    "DATABRICKS_TOKEN = dbutils.notebook.entry_point.getDbutils().notebook().getContext().apiToken().get()\n",
    "\n",
    "# Init client with Databricks endpoint as base_url\n",
    "client = OpenAI(\n",
    "    api_key=DATABRICKS_TOKEN,\n",
    "    base_url=\"https://dbc-af42bc48-2730.cloud.databricks.com/serving-endpoints\"  # replace!\n",
    ")\n",
    "\n",
    "# Construct context from vector search\n",
    "if isinstance(results[\"result\"], list):\n",
    "    context = \"\\n\\n\".join([r[\"text_chunk\"] for r in results[\"result\"]])\n",
    "else:\n",
    "    context = results[\"result\"]\n",
    "query = \"what is the name of the applicant?\"\n",
    "\n",
    "# Ask the LLM\n",
    "chat_completion = client.chat.completions.create(\n",
    "    messages=[\n",
    "        {\"role\": \"system\", \"content\": \"You are a helpful assistant. Answer questions based on the document excerpts provided.\"},\n",
    "        {\"role\": \"user\", \"content\": f\"\"\"Use the following document to answer the question.\n",
    "\n",
    "Document:\n",
    "{context}\n",
    "\n",
    "Question: {query}\n",
    "\"\"\"}\n",
    "    ],\n",
    "    model=\"databricks-llama-4-maverick\",  # or another model you deployed\n",
    "    max_tokens=300\n",
    ")\n",
    "\n",
    "# Print answer\n",
    "print(chat_completion.choices[0].message.content)"
   ]
  },
  {
   "cell_type": "code",
   "execution_count": 0,
   "metadata": {
    "application/vnd.databricks.v1+cell": {
     "cellMetadata": {},
     "inputWidgets": {},
     "nuid": "f6a290d6-eecb-4bc8-9edc-bc5010d90dfa",
     "showTitle": false,
     "tableResultSettingsMap": {},
     "title": ""
    }
   },
   "outputs": [],
   "source": []
  }
 ],
 "metadata": {
  "application/vnd.databricks.v1+notebook": {
   "computePreferences": null,
   "dashboards": [],
   "environmentMetadata": {
    "base_environment": "",
    "environment_version": "2"
   },
   "inputWidgetPreferences": null,
   "language": "python",
   "notebookMetadata": {
    "pythonIndentUnit": 4
   },
   "notebookName": "Main",
   "widgets": {}
  },
  "language_info": {
   "name": "python"
  }
 },
 "nbformat": 4,
 "nbformat_minor": 0
}
