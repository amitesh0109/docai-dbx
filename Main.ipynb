{
 "cells": [
  {
   "cell_type": "markdown",
   "metadata": {
    "application/vnd.databricks.v1+cell": {
     "cellMetadata": {
      "byteLimit": 2048000,
      "rowLimit": 10000
     },
     "inputWidgets": {},
     "nuid": "6019c511-2d2d-469c-af6c-d8fd65f89bde",
     "showTitle": false,
     "tableResultSettingsMap": {},
     "title": ""
    }
   },
   "source": [
    "# The G In RAG"
   ]
  },
  {
   "cell_type": "code",
   "execution_count": 0,
   "metadata": {
    "application/vnd.databricks.v1+cell": {
     "cellMetadata": {
      "byteLimit": 2048000,
      "rowLimit": 10000
     },
     "inputWidgets": {},
     "nuid": "dc27cd8d-3ebe-40a5-9f7f-fef9b8c21d8a",
     "showTitle": false,
     "tableResultSettingsMap": {},
     "title": ""
    }
   },
   "outputs": [],
   "source": [
    "dbutils.widgets.text(\"query\", \"\")\n",
    "query = dbutils.widgets.get(\"query\")\n",
    "\n",
    "dbutils.widgets.text(\"user\", \"\")\n",
    "user = dbutils.widgets.get(\"user\")"
   ]
  },
  {
   "cell_type": "code",
   "execution_count": 0,
   "metadata": {
    "application/vnd.databricks.v1+cell": {
     "cellMetadata": {
      "byteLimit": 2048000,
      "rowLimit": 10000
     },
     "inputWidgets": {},
     "nuid": "8621ee62-1823-4b4f-9de1-19b75e9d21b9",
     "showTitle": false,
     "tableResultSettingsMap": {},
     "title": ""
    }
   },
   "outputs": [],
   "source": [
    "%pip install openai\n",
    "%restart_python"
   ]
  },
  {
   "cell_type": "code",
   "execution_count": 0,
   "metadata": {
    "application/vnd.databricks.v1+cell": {
     "cellMetadata": {
      "byteLimit": 2048000,
      "rowLimit": 10000
     },
     "inputWidgets": {},
     "nuid": "baa36239-26cb-4c14-8552-e9f5a40ce38f",
     "showTitle": false,
     "tableResultSettingsMap": {},
     "title": ""
    }
   },
   "outputs": [],
   "source": [
    "# ------------------------------------------\n",
    "# MCP Step 1: Create MCP Context Metadata\n",
    "# ------------------------------------------\n",
    "from datetime import datetime\n",
    "import uuid\n",
    "\n",
    "def generate_mcp_context(user: str, query: str):\n",
    "    return {\n",
    "        \"request_id\": str(uuid.uuid4()),\n",
    "        \"timestamp\": datetime.utcnow().isoformat(),\n",
    "        \"user\": user,\n",
    "        \"query\": query,\n",
    "    }"
   ]
  },
  {
   "cell_type": "code",
   "execution_count": 0,
   "metadata": {
    "application/vnd.databricks.v1+cell": {
     "cellMetadata": {
      "byteLimit": 2048000,
      "rowLimit": 10000
     },
     "inputWidgets": {},
     "nuid": "9eddb5b7-cbd0-4ec0-9a78-05d88c7fb4c7",
     "showTitle": false,
     "tableResultSettingsMap": {},
     "title": ""
    }
   },
   "outputs": [],
   "source": [
    "# user = \"amitesh\" \n",
    "# query = \"What is the candidates name?\"\n",
    "\n",
    "# MCP context generation\n",
    "mcp_context = generate_mcp_context(user=user, query=query)"
   ]
  },
  {
   "cell_type": "code",
   "execution_count": 0,
   "metadata": {
    "application/vnd.databricks.v1+cell": {
     "cellMetadata": {
      "byteLimit": 2048000,
      "rowLimit": 10000
     },
     "inputWidgets": {},
     "nuid": "ad552097-cbba-4928-8f79-79bfac11e4d6",
     "showTitle": false,
     "tableResultSettingsMap": {},
     "title": ""
    }
   },
   "outputs": [],
   "source": [
    "from databricks.vector_search.client import VectorSearchClient\n",
    "\n",
    "# Initialize client\n",
    "vsc = VectorSearchClient()\n",
    "\n",
    "# Get index\n",
    "index = vsc.get_index(index_name=\"docai-dbx.gold.doc_embeddings_index\")\n",
    "\n",
    "# Use the built-in embedding function for querying (same one used for index creation)\n",
    "results = index.similarity_search(\n",
    "    query_text=\"What is the refund policy?\",\n",
    "    columns=[\"chunk_id\", \"file_name\", \"text_chunk\"],\n",
    "    num_results=5\n",
    ")\n",
    "#display(results)"
   ]
  },
  {
   "cell_type": "code",
   "execution_count": 0,
   "metadata": {
    "application/vnd.databricks.v1+cell": {
     "cellMetadata": {
      "byteLimit": 2048000,
      "rowLimit": 10000
     },
     "inputWidgets": {},
     "nuid": "2268f551-0307-4126-aae6-36a35aa05203",
     "showTitle": false,
     "tableResultSettingsMap": {},
     "title": ""
    }
   },
   "outputs": [],
   "source": [
    "from openai import OpenAI\n",
    "import os\n",
    "\n",
    "# Use token from current notebook session\n",
    "DATABRICKS_TOKEN = dbutils.notebook.entry_point.getDbutils().notebook().getContext().apiToken().get()\n",
    "\n",
    "# Init client with Databricks endpoint as base_url\n",
    "client = OpenAI(\n",
    "    api_key=DATABRICKS_TOKEN,\n",
    "    base_url=\"<!workspace>\" \n",
    ")\n",
    "\n",
    "# Construct context from vector search\n",
    "if isinstance(results[\"result\"], list):\n",
    "    context = \"\\n\\n\".join([r[\"text_chunk\"] for r in results[\"result\"]])\n",
    "else:\n",
    "    context = results[\"result\"]\n",
    "query = \"what is the name of the applicant?\"\n",
    "\n",
    "# Ask the LLM\n",
    "chat_completion = client.chat.completions.create(\n",
    "    messages=[\n",
    "        {\"role\": \"system\", \"content\": \"You are a helpful assistant. Answer questions based on the document excerpts provided.\"},\n",
    "        {\"role\": \"user\", \"content\": f\"\"\"Use the following document to answer the question.\n",
    "\n",
    "Document:\n",
    "{context}\n",
    "\n",
    "Question: {query}\n",
    "\"\"\"}\n",
    "    ],\n",
    "    model=\"databricks-llama-4-maverick\",  # or another model you deployed\n",
    "    max_tokens=300\n",
    ")\n",
    "\n",
    "final_answer = chat_completion.choices[0].message.content\n",
    "# Print answer\n",
    "print(final_answer)"
   ]
  },
  {
   "cell_type": "code",
   "execution_count": 0,
   "metadata": {
    "application/vnd.databricks.v1+cell": {
     "cellMetadata": {
      "byteLimit": 2048000,
      "rowLimit": 10000
     },
     "inputWidgets": {},
     "nuid": "a491618a-98bc-4d3d-9351-a0f9710bff09",
     "showTitle": false,
     "tableResultSettingsMap": {},
     "title": ""
    }
   },
   "outputs": [],
   "source": [
    "mcp_result = {\n",
    "    \"request_id\": mcp_context[\"request_id\"],\n",
    "    \"timestamp\": mcp_context[\"timestamp\"],\n",
    "    \"user\": mcp_context[\"user\"],\n",
    "    \"query\": mcp_context[\"query\"],\n",
    "    \"answer\": final_answer,\n",
    "    \"context\":context\n",
    "}\n",
    "\n",
    "from pyspark.sql import Row\n",
    "from pyspark.sql.types import StructType, StructField, StringType, TimestampType\n",
    "from datetime import datetime\n",
    "\n",
    "# Ensure timestamp is in datetime format\n",
    "mcp_result[\"timestamp\"] = datetime.fromisoformat(mcp_result[\"timestamp\"])\n",
    "\n",
    "# Define schema\n",
    "schema = StructType([\n",
    "    StructField(\"request_id\", StringType(), True),\n",
    "    StructField(\"timestamp\", TimestampType(), True),\n",
    "    StructField(\"user\", StringType(), True),\n",
    "    StructField(\"query\", StringType(), True),\n",
    "    StructField(\"answer\", StringType(), True),\n",
    "    StructField(\"context\", StringType(), True)  # Assuming context is a string\n",
    "])\n",
    "\n",
    "# Convert to Row and append\n",
    "row = Row(**mcp_result)\n",
    "df = spark.createDataFrame([row],schema=schema)\n",
    "\n",
    "df.write.mode(\"append\").format(\"delta\").saveAsTable(\"`docai-dbx`.mcp_audit.audit_logs\")"
   ]
  }
 ],
 "metadata": {
  "application/vnd.databricks.v1+notebook": {
   "computePreferences": null,
   "dashboards": [],
   "environmentMetadata": {
    "base_environment": "",
    "environment_version": "2"
   },
   "inputWidgetPreferences": null,
   "language": "python",
   "notebookMetadata": {
    "mostRecentlyExecutedCommandWithImplicitDF": {
     "commandId": 7022634517147143,
     "dataframes": [
      "_sqldf"
     ]
    },
    "pythonIndentUnit": 4
   },
   "notebookName": "Main",
   "widgets": {
    "query": {
     "currentValue": "",
     "nuid": "a7c1730c-c564-4c93-8ddb-c37c7bf4562d",
     "typedWidgetInfo": {
      "autoCreated": false,
      "defaultValue": "",
      "label": null,
      "name": "query",
      "options": {
       "widgetDisplayType": "Text",
       "validationRegex": null
      },
      "parameterDataType": "String"
     },
     "widgetInfo": {
      "widgetType": "text",
      "defaultValue": "",
      "label": null,
      "name": "query",
      "options": {
       "widgetType": "text",
       "autoCreated": false,
       "validationRegex": null
      }
     }
    },
    "user": {
     "currentValue": "",
     "nuid": "df373d99-8373-44e5-8794-9ec5b621a8dd",
     "typedWidgetInfo": {
      "autoCreated": false,
      "defaultValue": "",
      "label": null,
      "name": "user",
      "options": {
       "widgetDisplayType": "Text",
       "validationRegex": null
      },
      "parameterDataType": "String"
     },
     "widgetInfo": {
      "widgetType": "text",
      "defaultValue": "",
      "label": null,
      "name": "user",
      "options": {
       "widgetType": "text",
       "autoCreated": false,
       "validationRegex": null
      }
     }
    }
   }
  },
  "language_info": {
   "name": "python"
  }
 },
 "nbformat": 4,
 "nbformat_minor": 0
}
