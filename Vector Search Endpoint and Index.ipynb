{
 "cells": [
  {
   "cell_type": "markdown",
   "metadata": {
    "application/vnd.databricks.v1+cell": {
     "cellMetadata": {},
     "inputWidgets": {},
     "nuid": "08b7c6df-b8b3-4fe0-8f76-7f29897b0962",
     "showTitle": false,
     "tableResultSettingsMap": {},
     "title": ""
    }
   },
   "source": [
    "## Create Vector Endpoints and Index on embedding column (One-Time)"
   ]
  },
  {
   "cell_type": "code",
   "execution_count": 0,
   "metadata": {
    "application/vnd.databricks.v1+cell": {
     "cellMetadata": {
      "byteLimit": 2048000,
      "rowLimit": 10000
     },
     "inputWidgets": {},
     "nuid": "4e0062c2-6395-4240-9ad1-5150ae648d4a",
     "showTitle": false,
     "tableResultSettingsMap": {},
     "title": ""
    }
   },
   "outputs": [],
   "source": [
    "from databricks.vector_search.client import VectorSearchClient\n",
    "\n",
    "vsc = VectorSearchClient(disable_notice=True)\n",
    "\n",
    "# Create endpoint (only once, takes ~2–3 mins)\n",
    "vsc.create_endpoint(name=\"databricks_vectorsearch_endpoint\")\n"
   ]
  },
  {
   "cell_type": "code",
   "execution_count": 0,
   "metadata": {
    "application/vnd.databricks.v1+cell": {
     "cellMetadata": {
      "byteLimit": 2048000,
      "rowLimit": 10000
     },
     "inputWidgets": {},
     "nuid": "3af3bc47-503f-48ed-9f78-6ae745ea5ce6",
     "showTitle": false,
     "tableResultSettingsMap": {},
     "title": ""
    }
   },
   "outputs": [],
   "source": [
    "# (Optional) STEP 1B: Check if endpoint is online\n",
    "vsc.get_endpoint(name=\"databricks_vectorsearch_endpoint\")"
   ]
  },
  {
   "cell_type": "code",
   "execution_count": 0,
   "metadata": {
    "application/vnd.databricks.v1+cell": {
     "cellMetadata": {
      "byteLimit": 2048000,
      "implicitDf": true,
      "rowLimit": 10000
     },
     "inputWidgets": {},
     "nuid": "719e1a16-f440-46e7-9bd7-aa89a73c134d",
     "showTitle": false,
     "tableResultSettingsMap": {},
     "title": ""
    }
   },
   "outputs": [],
   "source": [
    "%sql\n",
    "    ALTER TABLE `docai-dbx`.gold.doc_embeddings SET TBLPROPERTIES (delta.enableChangeDataFeed = true)"
   ]
  },
  {
   "cell_type": "code",
   "execution_count": 0,
   "metadata": {
    "application/vnd.databricks.v1+cell": {
     "cellMetadata": {
      "byteLimit": 2048000,
      "rowLimit": 10000
     },
     "inputWidgets": {},
     "nuid": "d2d964c3-0be9-4a72-8db1-e0fa8db5c24e",
     "showTitle": false,
     "tableResultSettingsMap": {},
     "title": ""
    }
   },
   "outputs": [],
   "source": [
    "# STEP 2: Register Delta Table as a Vector Index\n",
    "catalog = \"docai-dbx\"\n",
    "schema = \"gold\"\n",
    "table = \"doc_embeddings\"\n",
    "source_table = f\"{catalog}.{schema}.{table}\"\n",
    "\n",
    "# Use a fully qualified index name\n",
    "index_name = f\"{catalog}.{schema}.doc_embeddings_index\"\n",
    "\n",
    "vsc.create_delta_sync_index(\n",
    "    endpoint_name=\"databricks_vectorsearch_endpoint\",\n",
    "    index_name=index_name,\n",
    "    source_table_name=source_table,\n",
    "    primary_key=\"chunk_id\",\n",
    "    pipeline_type=\"TRIGGERED\",\n",
    "    embedding_source_column=\"embedding_str\",\n",
    "    embedding_model_endpoint_name=\"databricks-gte-large-en\"\n",
    ")\n"
   ]
  },
  {
   "cell_type": "code",
   "execution_count": 0,
   "metadata": {
    "application/vnd.databricks.v1+cell": {
     "cellMetadata": {
      "byteLimit": 2048000,
      "rowLimit": 10000
     },
     "inputWidgets": {},
     "nuid": "c7154e7b-9a60-4d4f-b920-6ea84f6ba5bc",
     "showTitle": false,
     "tableResultSettingsMap": {},
     "title": ""
    }
   },
   "outputs": [],
   "source": [
    "# (Optional) STEP 2B: Confirm the index is registered\n",
    "vsc.get_index(\n",
    "    endpoint_name=\"databricks_vectorsearch_endpoint\",\n",
    "    index_name=index_name)\n"
   ]
  }
 ],
 "metadata": {
  "application/vnd.databricks.v1+notebook": {
   "computePreferences": null,
   "dashboards": [],
   "environmentMetadata": {
    "base_environment": "",
    "environment_version": "2"
   },
   "inputWidgetPreferences": null,
   "language": "python",
   "notebookMetadata": {
    "mostRecentlyExecutedCommandWithImplicitDF": {
     "commandId": 5570428137889219,
     "dataframes": [
      "_sqldf"
     ]
    },
    "pythonIndentUnit": 4
   },
   "notebookName": "Vector Search Endpoint and Index",
   "widgets": {}
  },
  "language_info": {
   "name": "python"
  }
 },
 "nbformat": 4,
 "nbformat_minor": 0
}
