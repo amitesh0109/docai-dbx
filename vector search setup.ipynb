{
 "cells": [
  {
   "cell_type": "code",
   "execution_count": 0,
   "metadata": {
    "application/vnd.databricks.v1+cell": {
     "cellMetadata": {
      "byteLimit": 2048000,
      "rowLimit": 10000
     },
     "inputWidgets": {},
     "nuid": "9e4c2cfc-d42a-4f64-b7d3-ec41085c924f",
     "showTitle": false,
     "tableResultSettingsMap": {},
     "title": ""
    }
   },
   "outputs": [],
   "source": [
    "%pip install databricks-vectorsearch\n",
    "dbutils.library.restartPython()"
   ]
  },
  {
   "cell_type": "code",
   "execution_count": 0,
   "metadata": {
    "application/vnd.databricks.v1+cell": {
     "cellMetadata": {
      "byteLimit": 2048000,
      "rowLimit": 10000
     },
     "inputWidgets": {},
     "nuid": "b85cb121-e439-4930-bfcc-d94bfa59e145",
     "showTitle": false,
     "tableResultSettingsMap": {},
     "title": ""
    }
   },
   "outputs": [],
   "source": [
    "from databricks.vector_search.client import VectorSearchClient\n",
    "\n",
    "vs_client = VectorSearchClient()\n",
    "\n",
    "endpoint_name = \"docai_endpoint\"  # 🔁 Change if needed\n",
    "\n",
    "vs_client.create_endpoint(\n",
    "    name=endpoint_name,\n",
    "    endpoint_type=\"INDEX\"  # For Delta table-based indexes\n",
    ")"
   ]
  },
  {
   "cell_type": "code",
   "execution_count": 0,
   "metadata": {
    "application/vnd.databricks.v1+cell": {
     "cellMetadata": {
      "byteLimit": 2048000,
      "rowLimit": 10000
     },
     "inputWidgets": {},
     "nuid": "b45077a1-66af-4304-9768-da887a81f356",
     "showTitle": false,
     "tableResultSettingsMap": {},
     "title": ""
    }
   },
   "outputs": [],
   "source": [
    "spark.sql(\"SELECT * FROM `docai-dbx`.gold.doc_embeddings LIMIT 1\").show()\n"
   ]
  },
  {
   "cell_type": "code",
   "execution_count": 0,
   "metadata": {
    "application/vnd.databricks.v1+cell": {
     "cellMetadata": {
      "byteLimit": 2048000,
      "rowLimit": 10000
     },
     "inputWidgets": {},
     "nuid": "da8f41c3-aeb1-4830-8f17-1623021b7788",
     "showTitle": false,
     "tableResultSettingsMap": {},
     "title": ""
    }
   },
   "outputs": [],
   "source": [
    "# COMMAND ----------\n",
    "\n",
    "# ✅ Step 1: Install vector search SDK if needed\n",
    "\n",
    "\n",
    "# COMMAND ----------\n",
    "\n",
    "# ✅ Step 4: Create index on your Delta table\n",
    "# Make sure your table exists before running this\n",
    "\n",
    "index_name = \"doc_embeddings_index\"  # 🔁 Choose a name for the index\n",
    "source_table = \"docai-dbx.gold.doc_embeddings\"  # 🧠 Replace with your actual table name\n",
    "primary_key_col = \"chunk_id\"\n",
    "embedding_dim = 384  # Because we used all-MiniLM-L6-v2\n",
    "\n",
    "vs_client.create_delta_sync_index(\n",
    "    endpoint_name=endpoint_name,\n",
    "    index_name=index_name,\n",
    "    source_table_name=source_table,\n",
    "    primary_key=primary_key_col,\n",
    "    embedding_dimension=embedding_dim\n",
    ")\n",
    "\n",
    "print(f\"✅ Index {index_name} created on table {source_table}\")\n",
    "\n",
    "# COMMAND ----------\n",
    "\n",
    "# ✅ Step 5: Check if the index is ready\n",
    "\n",
    "index = vs_client.get_index(\n",
    "    endpoint_name=endpoint_name,\n",
    "    index_name=index_name\n",
    ")\n",
    "\n",
    "status = index.describe()[\"status\"]\n",
    "print(f\"📡 Index Status: {status}\")\n"
   ]
  }
 ],
 "metadata": {
  "application/vnd.databricks.v1+notebook": {
   "computePreferences": null,
   "dashboards": [],
   "environmentMetadata": {
    "base_environment": "",
    "environment_version": "2"
   },
   "inputWidgetPreferences": null,
   "language": "python",
   "notebookMetadata": {
    "pythonIndentUnit": 4
   },
   "notebookName": "vector search setup",
   "widgets": {}
  },
  "language_info": {
   "name": "python"
  }
 },
 "nbformat": 4,
 "nbformat_minor": 0
}
